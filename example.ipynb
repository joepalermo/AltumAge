{
 "cells": [
  {
   "cell_type": "markdown",
   "id": "becoming-bulgaria",
   "metadata": {},
   "source": [
    "## AltumAge prediction example"
   ]
  },
  {
   "cell_type": "code",
   "execution_count": 1,
   "id": "religious-bloom",
   "metadata": {},
   "outputs": [],
   "source": [
    "#load necessary packages\n",
    "import tensorflow as tf\n",
    "import numpy as np\n",
    "import pandas as pd\n",
    "from sklearn import linear_model, preprocessing"
   ]
  },
  {
   "cell_type": "code",
   "execution_count": 2,
   "id": "anticipated-divide",
   "metadata": {},
   "outputs": [],
   "source": [
    "#load list of selected CpGsites\n",
    "cpgs = pd.read_csv('example_dependencies/CpGsites.csv').iloc[:,1]\n",
    "\n",
    "#load processed example data from GEO30870 data set\n",
    "#ensure the methylation data has been normalized with BMIQCalibration from Horvath 2013\n",
    "data = pd.read_pickle('example_dependencies/example_data.pkl')\n",
    "\n",
    "#load standard scaler\n",
    "scaler = pd.read_pickle('example_dependencies/scaler.pkl')\n",
    "\n",
    "#load AltumAge model\n",
    "AltumAge = tf.keras.models.load_model('AltumAge')"
   ]
  },
  {
   "cell_type": "code",
   "execution_count": 3,
   "id": "filled-bernard",
   "metadata": {},
   "outputs": [],
   "source": [
    "#regardless of the Illumina platform, select *in order* the 21368 CpG sites from the list \n",
    "real_age = data.age\n",
    "methylation_data = data[cpgs]"
   ]
  },
  {
   "cell_type": "code",
   "execution_count": 4,
   "id": "aggressive-image",
   "metadata": {},
   "outputs": [],
   "source": [
    "#scale data\n",
    "methylation_data_scaled = scaler.transform(methylation_data)"
   ]
  },
  {
   "cell_type": "code",
   "execution_count": 5,
   "id": "varying-marriage",
   "metadata": {},
   "outputs": [],
   "source": [
    "#predict with AltumAge\n",
    "pred_age_AltumAge = AltumAge.predict(methylation_data_scaled).flatten()"
   ]
  },
  {
   "cell_type": "code",
   "execution_count": 6,
   "id": "funny-attraction",
   "metadata": {},
   "outputs": [
    {
     "name": "stdout",
     "output_type": "stream",
     "text": [
      "The Median Absolute Error is: 6.803985595703125\n",
      "The Mean Squared Error is: 55.4657797353524\n",
      "Pearson's Correlation Coefficient is: 0.9891562781690617\n"
     ]
    }
   ],
   "source": [
    "#get AltumAge evaluation metrics\n",
    "mae = np.median(np.abs(real_age - pred_age_AltumAge))\n",
    "mse = np.mean((real_age - pred_age_AltumAge)**2)\n",
    "r = np.corrcoef(real_age, pred_age_AltumAge)[0,1]\n",
    "print('The Median Absolute Error is: ' + str(mae))\n",
    "print('The Mean Squared Error is: ' + str(mse))\n",
    "print(\"Pearson's Correlation Coefficient is: \" + str(r))"
   ]
  },
  {
   "cell_type": "markdown",
   "id": "patient-wagner",
   "metadata": {},
   "source": [
    "## Comparison with Horvath's 2013 model"
   ]
  },
  {
   "cell_type": "code",
   "execution_count": 7,
   "id": "historical-flood",
   "metadata": {},
   "outputs": [],
   "source": [
    "#Horvath's age transformation function\n",
    "def anti_transform_age(exps):\n",
    "    import numpy as np\n",
    "    adult_age = 20\n",
    "    ages = []\n",
    "    for exp in exps:\n",
    "        import numpy as np\n",
    "        if exp < 0:\n",
    "            age = (1 + adult_age)*(np.exp(exp))-1\n",
    "            ages.append(age)\n",
    "        else:\n",
    "            age = (1 + adult_age)*exp + adult_age\n",
    "            ages.append(age)\n",
    "    ages = np.array(ages)\n",
    "    return ages"
   ]
  },
  {
   "cell_type": "code",
   "execution_count": 8,
   "id": "apparent-baptist",
   "metadata": {},
   "outputs": [],
   "source": [
    "#loading model parameters for Horvath's 2013 Model\n",
    "coef_data = pd.read_csv('example_dependencies/coefficients.csv')\n",
    "intercept = coef_data[0:1].CoefficientTraining[0]\n",
    "horvath_cpgs = np.array(coef_data.drop(0).CpGmarker)\n",
    "coefs = np.array(coef_data.drop(0).CoefficientTraining)\n",
    "horvath_model = linear_model.LinearRegression()\n",
    "horvath_model.coef_ = coefs\n",
    "horvath_model.intercept_ = intercept"
   ]
  },
  {
   "cell_type": "code",
   "execution_count": 9,
   "id": "cross-closure",
   "metadata": {},
   "outputs": [],
   "source": [
    "#predict with Horvath's 2013 model\n",
    "pred_ages_Horvath = anti_transform_age(horvath_model.predict(methylation_data[horvath_cpgs]))"
   ]
  },
  {
   "cell_type": "code",
   "execution_count": 10,
   "id": "tender-specification",
   "metadata": {},
   "outputs": [
    {
     "name": "stdout",
     "output_type": "stream",
     "text": [
      "The Median Absolute Error is: 14.140236344179442\n",
      "The Mean Squared Error is: 171.92677509854326\n",
      "Pearson's Correlation Coefficient is: 0.9726306089777842\n"
     ]
    }
   ],
   "source": [
    "#get Horvath's 2013 model evaluation metrics\n",
    "mae = np.median(np.abs(real_age - pred_ages_Horvath))\n",
    "mse = np.mean((real_age - pred_ages_Horvath)**2)\n",
    "r = np.corrcoef(real_age, pred_ages_Horvath)[0,1]\n",
    "print('The Median Absolute Error is: ' + str(mae))\n",
    "print('The Mean Squared Error is: ' + str(mse))\n",
    "print(\"Pearson's Correlation Coefficient is: \" + str(r))"
   ]
  }
 ],
 "metadata": {
  "kernelspec": {
   "display_name": "Python 3",
   "language": "python",
   "name": "python3"
  },
  "language_info": {
   "codemirror_mode": {
    "name": "ipython",
    "version": 3
   },
   "file_extension": ".py",
   "mimetype": "text/x-python",
   "name": "python",
   "nbconvert_exporter": "python",
   "pygments_lexer": "ipython3",
   "version": "3.8.6"
  }
 },
 "nbformat": 4,
 "nbformat_minor": 5
}
