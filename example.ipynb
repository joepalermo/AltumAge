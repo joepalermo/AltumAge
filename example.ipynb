{
 "cells": [
  {
   "cell_type": "markdown",
   "id": "anonymous-ranking",
   "metadata": {},
   "source": [
    "## AltumAge prediction example"
   ]
  },
  {
   "cell_type": "code",
   "execution_count": 17,
   "id": "incorporated-kelly",
   "metadata": {},
   "outputs": [],
   "source": [
    "#load necessary packages\n",
    "import tensorflow as tf\n",
    "import numpy as np\n",
    "import pandas as pd\n",
    "from sklearn import linear_model, preprocessing"
   ]
  },
  {
   "cell_type": "code",
   "execution_count": 18,
   "id": "83b420f2-2fbd-4d67-a540-33815011d956",
   "metadata": {},
   "outputs": [],
   "source": [
    "#load list of selected CpGsites\n",
    "cpgs = np.array(pd.read_pickle('example_dependencies/CpGsites.csv'))\n",
    "\n",
    "#load processed example data from GEO30870 data set\n",
    "#ensure the methylation data has been normalized with BMIQCalibration from Horvath 2013\n",
    "data = pd.read_pickle('example_dependencies/example_data.pkl')\n",
    "\n",
    "#load standard scaler\n",
    "scaler = pd.read_pickle('example_dependencies/scaler.pkl')\n",
    "\n",
    "#load AltumAge model\n",
    "AltumAge = tf.keras.models.load_model('AltumAge.h5')"
   ]
  },
  {
   "cell_type": "code",
   "execution_count": 19,
   "id": "humanitarian-invitation",
   "metadata": {},
   "outputs": [],
   "source": [
    "#regardless of the Illumina platform, select *in order* the 21368 CpG sites from the list \n",
    "real_age = data.age\n",
    "methylation_data = data[cpgs]"
   ]
  },
  {
   "cell_type": "code",
   "execution_count": 20,
   "id": "collective-proxy",
   "metadata": {},
   "outputs": [],
   "source": [
    "#scale data\n",
    "methylation_data_scaled = scaler.transform(methylation_data)"
   ]
  },
  {
   "cell_type": "code",
   "execution_count": 22,
   "id": "colored-colonial",
   "metadata": {},
   "outputs": [],
   "source": [
    "#predict with AltumAge\n",
    "pred_age_AltumAge = AltumAge.predict(methylation_data_scaled).flatten()"
   ]
  },
  {
   "cell_type": "code",
   "execution_count": 23,
   "id": "figured-benchmark",
   "metadata": {},
   "outputs": [
    {
     "name": "stdout",
     "output_type": "stream",
     "text": [
      "The Median Absolute Error is: 9.992599487304688\n",
      "The Mean Squared Error is: 98.52498424905616\n",
      "Pearson's Correlation Coefficient is: 0.9890003381511906\n"
     ]
    }
   ],
   "source": [
    "#get AltumAge evaluation metrics\n",
    "mae = np.median(np.abs(real_age - pred_age_AltumAge))\n",
    "mse = np.mean((real_age - pred_age_AltumAge)**2)\n",
    "r = np.corrcoef(real_age, pred_age_AltumAge)[0,1]\n",
    "print('The Median Absolute Error is: ' + str(mae))\n",
    "print('The Mean Squared Error is: ' + str(mse))\n",
    "print(\"Pearson's Correlation Coefficient is: \" + str(r))"
   ]
  },
  {
   "cell_type": "markdown",
   "id": "revolutionary-january",
   "metadata": {},
   "source": [
    "## Comparison with Horvath's 2013 model"
   ]
  },
  {
   "cell_type": "code",
   "execution_count": 7,
   "id": "generous-completion",
   "metadata": {},
   "outputs": [],
   "source": [
    "#Horvath's age transformation function\n",
    "def anti_transform_age(exps):\n",
    "    import numpy as np\n",
    "    adult_age = 20\n",
    "    ages = []\n",
    "    for exp in exps:\n",
    "        import numpy as np\n",
    "        if exp < 0:\n",
    "            age = (1 + adult_age)*(np.exp(exp))-1\n",
    "            ages.append(age)\n",
    "        else:\n",
    "            age = (1 + adult_age)*exp + adult_age\n",
    "            ages.append(age)\n",
    "    ages = np.array(ages)\n",
    "    return ages"
   ]
  },
  {
   "cell_type": "code",
   "execution_count": 8,
   "id": "present-religious",
   "metadata": {},
   "outputs": [],
   "source": [
    "#loading model parameters for Horvath's 2013 Model\n",
    "coef_data = pd.read_csv('example_dependencies/coefficients.csv')\n",
    "intercept = coef_data[0:1].CoefficientTraining[0]\n",
    "horvath_cpgs = np.array(coef_data.drop(0).CpGmarker)\n",
    "coefs = np.array(coef_data.drop(0).CoefficientTraining)\n",
    "horvath_model = linear_model.LinearRegression()\n",
    "horvath_model.coef_ = coefs\n",
    "horvath_model.intercept_ = intercept"
   ]
  },
  {
   "cell_type": "code",
   "execution_count": 9,
   "id": "spoken-paragraph",
   "metadata": {},
   "outputs": [],
   "source": [
    "#predict with Horvath's 2013 model\n",
    "pred_ages_Horvath = anti_transform_age(horvath_model.predict(methylation_data[horvath_cpgs]))"
   ]
  },
  {
   "cell_type": "code",
   "execution_count": 10,
   "id": "engaging-proxy",
   "metadata": {},
   "outputs": [
    {
     "name": "stdout",
     "output_type": "stream",
     "text": [
      "The Median Absolute Error is: 14.140236344179442\n",
      "The Mean Squared Error is: 171.92677509854326\n",
      "Pearson's Correlation Coefficient is: 0.9726306089777842\n"
     ]
    }
   ],
   "source": [
    "#get Horvath's 2013 model evaluation metrics\n",
    "mae = np.median(np.abs(real_age - pred_ages_Horvath))\n",
    "mse = np.mean((real_age - pred_ages_Horvath)**2)\n",
    "r = np.corrcoef(real_age, pred_ages_Horvath)[0,1]\n",
    "print('The Median Absolute Error is: ' + str(mae))\n",
    "print('The Mean Squared Error is: ' + str(mse))\n",
    "print(\"Pearson's Correlation Coefficient is: \" + str(r))"
   ]
  }
 ],
 "metadata": {
  "kernelspec": {
   "display_name": "Python 3 (ipykernel)",
   "language": "python",
   "name": "python3"
  },
  "language_info": {
   "codemirror_mode": {
    "name": "ipython",
    "version": 3
   },
   "file_extension": ".py",
   "mimetype": "text/x-python",
   "name": "python",
   "nbconvert_exporter": "python",
   "pygments_lexer": "ipython3",
   "version": "3.9.4"
  }
 },
 "nbformat": 4,
 "nbformat_minor": 5
}
